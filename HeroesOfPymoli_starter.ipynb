{
 "cells": [
  {
   "cell_type": "markdown",
   "metadata": {},
   "source": [
    "### Heroes Of Pymoli Data Analysis\n",
    "* Of the 1163 active players, the vast majority are male (84%). There also exists, a smaller, but notable proportion of female players (14%).\n",
    "\n",
    "* Our peak age demographic falls between 20-24 (44.8%) with secondary groups falling between 15-19 (18.60%) and 25-29 (13.4%).  \n",
    "-----"
   ]
  },
  {
   "cell_type": "markdown",
   "metadata": {},
   "source": [
    "### Note\n",
    "* Instructions have been included for each segment. You do not have to follow them exactly, but they are included to help you think through the steps."
   ]
  },
  {
   "cell_type": "code",
   "execution_count": 120,
   "metadata": {},
   "outputs": [],
   "source": [
    "# Dependencies and Setup\n",
    "import pandas as pd\n",
    "import numpy as np\n",
    "\n",
    "# Raw data file\n",
    "file_to_load = \"purchase_data.csv\"\n",
    "\n",
    "# Read purchasing file and store into pandas data frame\n",
    "purchase_data = pd.read_csv(file_to_load)"
   ]
  },
  {
   "cell_type": "markdown",
   "metadata": {},
   "source": [
    "## Player Count"
   ]
  },
  {
   "cell_type": "markdown",
   "metadata": {},
   "source": [
    "* Display the total number of players\n"
   ]
  },
  {
   "cell_type": "code",
   "execution_count": 22,
   "metadata": {},
   "outputs": [
    {
     "data": {
      "text/html": [
       "<div>\n",
       "<style scoped>\n",
       "    .dataframe tbody tr th:only-of-type {\n",
       "        vertical-align: middle;\n",
       "    }\n",
       "\n",
       "    .dataframe tbody tr th {\n",
       "        vertical-align: top;\n",
       "    }\n",
       "\n",
       "    .dataframe thead th {\n",
       "        text-align: right;\n",
       "    }\n",
       "</style>\n",
       "<table border=\"1\" class=\"dataframe\">\n",
       "  <thead>\n",
       "    <tr style=\"text-align: right;\">\n",
       "      <th></th>\n",
       "      <th>Purchase ID</th>\n",
       "      <th>SN</th>\n",
       "      <th>Age</th>\n",
       "      <th>Gender</th>\n",
       "      <th>Item ID</th>\n",
       "      <th>Item Name</th>\n",
       "      <th>Price</th>\n",
       "    </tr>\n",
       "  </thead>\n",
       "  <tbody>\n",
       "    <tr>\n",
       "      <th>0</th>\n",
       "      <td>0</td>\n",
       "      <td>Lisim78</td>\n",
       "      <td>20</td>\n",
       "      <td>Male</td>\n",
       "      <td>108</td>\n",
       "      <td>Extraction, Quickblade Of Trembling Hands</td>\n",
       "      <td>3.53</td>\n",
       "    </tr>\n",
       "    <tr>\n",
       "      <th>1</th>\n",
       "      <td>1</td>\n",
       "      <td>Lisovynya38</td>\n",
       "      <td>40</td>\n",
       "      <td>Male</td>\n",
       "      <td>143</td>\n",
       "      <td>Frenzied Scimitar</td>\n",
       "      <td>1.56</td>\n",
       "    </tr>\n",
       "    <tr>\n",
       "      <th>2</th>\n",
       "      <td>2</td>\n",
       "      <td>Ithergue48</td>\n",
       "      <td>24</td>\n",
       "      <td>Male</td>\n",
       "      <td>92</td>\n",
       "      <td>Final Critic</td>\n",
       "      <td>4.88</td>\n",
       "    </tr>\n",
       "    <tr>\n",
       "      <th>3</th>\n",
       "      <td>3</td>\n",
       "      <td>Chamassasya86</td>\n",
       "      <td>24</td>\n",
       "      <td>Male</td>\n",
       "      <td>100</td>\n",
       "      <td>Blindscythe</td>\n",
       "      <td>3.27</td>\n",
       "    </tr>\n",
       "    <tr>\n",
       "      <th>4</th>\n",
       "      <td>4</td>\n",
       "      <td>Iskosia90</td>\n",
       "      <td>23</td>\n",
       "      <td>Male</td>\n",
       "      <td>131</td>\n",
       "      <td>Fury</td>\n",
       "      <td>1.44</td>\n",
       "    </tr>\n",
       "  </tbody>\n",
       "</table>\n",
       "</div>"
      ],
      "text/plain": [
       "   Purchase ID             SN  Age Gender  Item ID  \\\n",
       "0            0        Lisim78   20   Male      108   \n",
       "1            1    Lisovynya38   40   Male      143   \n",
       "2            2     Ithergue48   24   Male       92   \n",
       "3            3  Chamassasya86   24   Male      100   \n",
       "4            4      Iskosia90   23   Male      131   \n",
       "\n",
       "                                   Item Name  Price  \n",
       "0  Extraction, Quickblade Of Trembling Hands   3.53  \n",
       "1                          Frenzied Scimitar   1.56  \n",
       "2                               Final Critic   4.88  \n",
       "3                                Blindscythe   3.27  \n",
       "4                                       Fury   1.44  "
      ]
     },
     "execution_count": 22,
     "metadata": {},
     "output_type": "execute_result"
    }
   ],
   "source": [
    "purchase_data.head()"
   ]
  },
  {
   "cell_type": "code",
   "execution_count": 23,
   "metadata": {},
   "outputs": [
    {
     "data": {
      "text/plain": [
       "576"
      ]
     },
     "execution_count": 23,
     "metadata": {},
     "output_type": "execute_result"
    }
   ],
   "source": [
    "players = purchase_data[\"SN\"].unique()\n",
    "len(players)"
   ]
  },
  {
   "cell_type": "code",
   "execution_count": 24,
   "metadata": {},
   "outputs": [
    {
     "data": {
      "text/html": [
       "<div>\n",
       "<style scoped>\n",
       "    .dataframe tbody tr th:only-of-type {\n",
       "        vertical-align: middle;\n",
       "    }\n",
       "\n",
       "    .dataframe tbody tr th {\n",
       "        vertical-align: top;\n",
       "    }\n",
       "\n",
       "    .dataframe thead th {\n",
       "        text-align: right;\n",
       "    }\n",
       "</style>\n",
       "<table border=\"1\" class=\"dataframe\">\n",
       "  <thead>\n",
       "    <tr style=\"text-align: right;\">\n",
       "      <th></th>\n",
       "      <th>Total Players</th>\n",
       "    </tr>\n",
       "  </thead>\n",
       "  <tbody>\n",
       "    <tr>\n",
       "      <th>0</th>\n",
       "      <td>576</td>\n",
       "    </tr>\n",
       "  </tbody>\n",
       "</table>\n",
       "</div>"
      ],
      "text/plain": [
       "   Total Players\n",
       "0            576"
      ]
     },
     "execution_count": 24,
     "metadata": {},
     "output_type": "execute_result"
    }
   ],
   "source": [
    "players_data = {\"Total Players\": [len(players)]}\n",
    "players_df = pd.DataFrame(data=players_data)\n",
    "players_df.head()"
   ]
  },
  {
   "cell_type": "code",
   "execution_count": 25,
   "metadata": {},
   "outputs": [
    {
     "data": {
      "text/plain": [
       "780"
      ]
     },
     "execution_count": 25,
     "metadata": {},
     "output_type": "execute_result"
    }
   ],
   "source": [
    "purchases = purchase_data[\"Purchase ID\"].unique()\n",
    "len(purchases)"
   ]
  },
  {
   "cell_type": "code",
   "execution_count": 26,
   "metadata": {
    "scrolled": true
   },
   "outputs": [
    {
     "data": {
      "text/plain": [
       "183"
      ]
     },
     "execution_count": 26,
     "metadata": {},
     "output_type": "execute_result"
    }
   ],
   "source": [
    "unique_items = purchase_data[\"Item ID\"].unique()\n",
    "len(unique_items)"
   ]
  },
  {
   "cell_type": "markdown",
   "metadata": {},
   "source": [
    "## Purchasing Analysis (Total)"
   ]
  },
  {
   "cell_type": "markdown",
   "metadata": {},
   "source": [
    "* Run basic calculations to obtain number of unique items, average price, etc.\n",
    "\n",
    "\n",
    "* Create a summary data frame to hold the results\n",
    "\n",
    "\n",
    "* Optional: give the displayed data cleaner formatting\n",
    "\n",
    "\n",
    "* Display the summary data frame\n"
   ]
  },
  {
   "cell_type": "code",
   "execution_count": 27,
   "metadata": {},
   "outputs": [
    {
     "data": {
      "text/plain": [
       "'$3.05'"
      ]
     },
     "execution_count": 27,
     "metadata": {},
     "output_type": "execute_result"
    }
   ],
   "source": [
    "avg_price = purchase_data[\"Price\"].mean()\n",
    "\n",
    "#avg_price = np.round(avg_price, decimals=2)\n",
    "avg_price = \"${:.2f}\".format(avg_price)\n",
    "avg_price\n"
   ]
  },
  {
   "cell_type": "code",
   "execution_count": 28,
   "metadata": {},
   "outputs": [
    {
     "data": {
      "text/plain": [
       "780"
      ]
     },
     "execution_count": 28,
     "metadata": {},
     "output_type": "execute_result"
    }
   ],
   "source": [
    "purchase_data.shape[0]"
   ]
  },
  {
   "cell_type": "code",
   "execution_count": 29,
   "metadata": {
    "scrolled": true
   },
   "outputs": [
    {
     "data": {
      "text/plain": [
       "2379.77"
      ]
     },
     "execution_count": 29,
     "metadata": {},
     "output_type": "execute_result"
    }
   ],
   "source": [
    "total_revenue = purchase_data[\"Price\"].sum()\n",
    "total_revenue"
   ]
  },
  {
   "cell_type": "code",
   "execution_count": 30,
   "metadata": {},
   "outputs": [
    {
     "data": {
      "text/plain": [
       "'$2,379.77'"
      ]
     },
     "execution_count": 30,
     "metadata": {},
     "output_type": "execute_result"
    }
   ],
   "source": [
    "total_revenue_format = \"${:,.2f}\".format(total_revenue)\n",
    "total_revenue_format"
   ]
  },
  {
   "cell_type": "code",
   "execution_count": null,
   "metadata": {},
   "outputs": [],
   "source": []
  },
  {
   "cell_type": "code",
   "execution_count": 31,
   "metadata": {},
   "outputs": [
    {
     "data": {
      "text/html": [
       "<div>\n",
       "<style scoped>\n",
       "    .dataframe tbody tr th:only-of-type {\n",
       "        vertical-align: middle;\n",
       "    }\n",
       "\n",
       "    .dataframe tbody tr th {\n",
       "        vertical-align: top;\n",
       "    }\n",
       "\n",
       "    .dataframe thead th {\n",
       "        text-align: right;\n",
       "    }\n",
       "</style>\n",
       "<table border=\"1\" class=\"dataframe\">\n",
       "  <thead>\n",
       "    <tr style=\"text-align: right;\">\n",
       "      <th></th>\n",
       "      <th>Average Price</th>\n",
       "      <th>Number of Purchases</th>\n",
       "      <th>Number of Unique Items</th>\n",
       "      <th>Total Revenue</th>\n",
       "    </tr>\n",
       "  </thead>\n",
       "  <tbody>\n",
       "    <tr>\n",
       "      <th>0</th>\n",
       "      <td>$3.05</td>\n",
       "      <td>780</td>\n",
       "      <td>183</td>\n",
       "      <td>$2,379.77</td>\n",
       "    </tr>\n",
       "  </tbody>\n",
       "</table>\n",
       "</div>"
      ],
      "text/plain": [
       "  Average Price  Number of Purchases  Number of Unique Items Total Revenue\n",
       "0         $3.05                  780                     183     $2,379.77"
      ]
     },
     "execution_count": 31,
     "metadata": {},
     "output_type": "execute_result"
    }
   ],
   "source": [
    "purchase_analysis = {\"Number of Unique Items\":[len(unique_items)],\"Average Price\":[avg_price],\n",
    "                     \"Number of Purchases\":[len(purchases)],\"Total Revenue\":[total_revenue_format]}\n",
    "purchase_analysis_df = pd.DataFrame(data = purchase_analysis)\n",
    "purchase_analysis_df"
   ]
  },
  {
   "cell_type": "code",
   "execution_count": 32,
   "metadata": {},
   "outputs": [
    {
     "data": {
      "text/plain": [
       "['Average Price',\n",
       " 'Number of Purchases',\n",
       " 'Number of Unique Items',\n",
       " 'Total Revenue']"
      ]
     },
     "execution_count": 32,
     "metadata": {},
     "output_type": "execute_result"
    }
   ],
   "source": [
    "cols = list(purchase_analysis_df.columns.values)\n",
    "cols"
   ]
  },
  {
   "cell_type": "code",
   "execution_count": 13,
   "metadata": {
    "scrolled": true
   },
   "outputs": [],
   "source": [
    "#purchase_analysis_df = purchase_analysis_df[[\"Number of Unique Items\",\"Average Price\",\n",
    "                                             #\"Number of Purchases\",\"Total Revenue\"]]\n",
    "#purchase_analysis_df"
   ]
  },
  {
   "cell_type": "markdown",
   "metadata": {},
   "source": [
    "## Gender Demographics"
   ]
  },
  {
   "cell_type": "markdown",
   "metadata": {},
   "source": [
    "* Run basic calculations to obtain number of unique items, average price, etc.\n",
    "\n",
    "\n",
    "* Create a summary data frame to hold the results\n",
    "\n",
    "\n",
    "* Optional: give the displayed data cleaner formatting\n",
    "\n",
    "\n",
    "* Display the summary data frame\n"
   ]
  },
  {
   "cell_type": "code",
   "execution_count": 14,
   "metadata": {},
   "outputs": [
    {
     "data": {
      "text/plain": [
       "Male                     652\n",
       "Female                   113\n",
       "Other / Non-Disclosed     15\n",
       "Name: Gender, dtype: int64"
      ]
     },
     "execution_count": 14,
     "metadata": {},
     "output_type": "execute_result"
    }
   ],
   "source": [
    "genders = purchase_data[\"Gender\"].value_counts()\n",
    "genders"
   ]
  },
  {
   "cell_type": "code",
   "execution_count": 15,
   "metadata": {},
   "outputs": [
    {
     "data": {
      "text/plain": [
       "576"
      ]
     },
     "execution_count": 15,
     "metadata": {},
     "output_type": "execute_result"
    }
   ],
   "source": [
    "total_players = purchase_data[\"SN\"].unique()\n",
    "len(total_players)"
   ]
  },
  {
   "cell_type": "code",
   "execution_count": 16,
   "metadata": {},
   "outputs": [
    {
     "data": {
      "text/plain": [
       "652"
      ]
     },
     "execution_count": 16,
     "metadata": {},
     "output_type": "execute_result"
    }
   ],
   "source": [
    "males = purchase_data[purchase_data[\"Gender\"] == \"Male\"].shape[0]\n",
    "males"
   ]
  },
  {
   "cell_type": "code",
   "execution_count": 17,
   "metadata": {},
   "outputs": [
    {
     "data": {
      "text/plain": [
       "113.19"
      ]
     },
     "execution_count": 17,
     "metadata": {},
     "output_type": "execute_result"
    }
   ],
   "source": [
    "percentage_of_males = \"{:.2f}\".format((males/len(total_players))*100)\n",
    "float(percentage_of_males)"
   ]
  },
  {
   "cell_type": "code",
   "execution_count": 18,
   "metadata": {},
   "outputs": [
    {
     "data": {
      "text/plain": [
       "113"
      ]
     },
     "execution_count": 18,
     "metadata": {},
     "output_type": "execute_result"
    }
   ],
   "source": [
    "females = len(purchase_data[purchase_data[\"Gender\"] == \"Female\"])\n",
    "females"
   ]
  },
  {
   "cell_type": "code",
   "execution_count": 19,
   "metadata": {},
   "outputs": [
    {
     "data": {
      "text/plain": [
       "15"
      ]
     },
     "execution_count": 19,
     "metadata": {},
     "output_type": "execute_result"
    }
   ],
   "source": [
    "other_gender = purchase_data[purchase_data[\"Gender\"] == \"Other / Non-Disclosed\"].shape[0]\n",
    "other_gender"
   ]
  },
  {
   "cell_type": "code",
   "execution_count": 126,
   "metadata": {},
   "outputs": [],
   "source": [
    "gender_groups = purchase_data.copy()\n",
    "gender_groups.drop_duplicates(subset=[\"SN\"], inplace=True)\n",
    "gender_groups.shape\n",
    "gender_groups = gender_groups.groupby(\"Gender\")\n",
    "gender_groups_price = gender_groups[\"Price\"].mean()\n",
    "\n",
    "female_avg_price = \"${:.2f}\".format(gender_groups_price[0])\n",
    "male_avg_price = \"${:.2f}\".format(gender_groups_price[1])\n",
    "other_avg_price = \"${:.2f}\".format(gender_groups_price[2])"
   ]
  },
  {
   "cell_type": "code",
   "execution_count": 127,
   "metadata": {},
   "outputs": [
    {
     "name": "stdout",
     "output_type": "stream",
     "text": [
      "$3.17 $3.05 $3.41\n"
     ]
    }
   ],
   "source": [
    "print(female_avg_price, male_avg_price, other_avg_price)"
   ]
  },
  {
   "cell_type": "code",
   "execution_count": 79,
   "metadata": {},
   "outputs": [
    {
     "data": {
      "text/plain": [
       "'$3.41'"
      ]
     },
     "execution_count": 79,
     "metadata": {},
     "output_type": "execute_result"
    }
   ],
   "source": [
    "other_avg_price"
   ]
  },
  {
   "cell_type": "code",
   "execution_count": 80,
   "metadata": {},
   "outputs": [
    {
     "name": "stdout",
     "output_type": "stream",
     "text": [
      "$256.43\n",
      "$1,474.70\n",
      "$37.52\n"
     ]
    }
   ],
   "source": [
    "gender_groups_total = gender_groups[\"Price\"].sum()\n",
    "female_total_price = \"${:,.2f}\".format(gender_groups_total[0])\n",
    "male_total_price = \"${:,.2f}\".format(gender_groups_total[1])\n",
    "other_total_price = \"${:,.2f}\".format(gender_groups_total[2])\n",
    "print(female_total_price)\n",
    "print(male_total_price)\n",
    "print(other_total_price)"
   ]
  },
  {
   "cell_type": "code",
   "execution_count": 81,
   "metadata": {},
   "outputs": [
    {
     "name": "stdout",
     "output_type": "stream",
     "text": [
      "$2.27\n",
      "$2.26\n",
      "$2.50\n"
     ]
    }
   ],
   "source": [
    "norm_females = gender_groups_total[0]/females\n",
    "norm_males = gender_groups_total[1]/males\n",
    "norm_others = gender_groups_total[2]/other_gender\n",
    "\n",
    "norm_fem = \"${:.2f}\".format(norm_females)\n",
    "norm_mal = \"${:.2f}\".format(norm_males)\n",
    "norm_oth = \"${:.2f}\".format(norm_others)\n",
    "\n",
    "print(norm_fem)\n",
    "print(norm_mal)\n",
    "print(norm_oth)"
   ]
  },
  {
   "cell_type": "code",
   "execution_count": 82,
   "metadata": {},
   "outputs": [
    {
     "data": {
      "text/html": [
       "<div>\n",
       "<style scoped>\n",
       "    .dataframe tbody tr th:only-of-type {\n",
       "        vertical-align: middle;\n",
       "    }\n",
       "\n",
       "    .dataframe tbody tr th {\n",
       "        vertical-align: top;\n",
       "    }\n",
       "\n",
       "    .dataframe thead th {\n",
       "        text-align: right;\n",
       "    }\n",
       "</style>\n",
       "<table border=\"1\" class=\"dataframe\">\n",
       "  <thead>\n",
       "    <tr style=\"text-align: right;\">\n",
       "      <th></th>\n",
       "      <th>Avg Purchase Price</th>\n",
       "      <th>Normalized Totals</th>\n",
       "      <th>Purchase Count</th>\n",
       "      <th>Total Purchase Price</th>\n",
       "    </tr>\n",
       "  </thead>\n",
       "  <tbody>\n",
       "    <tr>\n",
       "      <th>Female</th>\n",
       "      <td>$3.17</td>\n",
       "      <td>$2.27</td>\n",
       "      <td>113</td>\n",
       "      <td>$256.43</td>\n",
       "    </tr>\n",
       "    <tr>\n",
       "      <th>Male</th>\n",
       "      <td>$3.05</td>\n",
       "      <td>$2.26</td>\n",
       "      <td>652</td>\n",
       "      <td>$1,474.70</td>\n",
       "    </tr>\n",
       "    <tr>\n",
       "      <th>Other / Non-Disclosed</th>\n",
       "      <td>$3.41</td>\n",
       "      <td>$2.50</td>\n",
       "      <td>15</td>\n",
       "      <td>$37.52</td>\n",
       "    </tr>\n",
       "  </tbody>\n",
       "</table>\n",
       "</div>"
      ],
      "text/plain": [
       "                      Avg Purchase Price Normalized Totals  Purchase Count  \\\n",
       "Female                             $3.17             $2.27             113   \n",
       "Male                               $3.05             $2.26             652   \n",
       "Other / Non-Disclosed              $3.41             $2.50              15   \n",
       "\n",
       "                      Total Purchase Price  \n",
       "Female                             $256.43  \n",
       "Male                             $1,474.70  \n",
       "Other / Non-Disclosed               $37.52  "
      ]
     },
     "execution_count": 82,
     "metadata": {},
     "output_type": "execute_result"
    }
   ],
   "source": [
    "gender_data = {\"Purchase Count\":[females, males, other_gender],\n",
    "               \"Avg Purchase Price\":[female_avg_price,male_avg_price,other_avg_price],\n",
    "               \"Total Purchase Price\":[female_total_price,male_total_price,other_total_price],\n",
    "               \"Normalized Totals\":[norm_fem,norm_mal,norm_oth]}\n",
    "genders = [\"Female\", \"Male\", \"Other / Non-Disclosed\"]\n",
    "gender_df = pd.DataFrame(data=gender_data, index=genders)\n",
    "gender_df"
   ]
  },
  {
   "cell_type": "markdown",
   "metadata": {},
   "source": [
    "\n",
    "## Purchasing Analysis (Gender)"
   ]
  },
  {
   "cell_type": "markdown",
   "metadata": {},
   "source": [
    "* Run basic calculations to obtain purchase count, avg. purchase price, etc. by gender\n",
    "\n",
    "\n",
    "* For normalized purchasing, divide total purchase value by purchase count, by gender\n",
    "\n",
    "\n",
    "* Create a summary data frame to hold the results\n",
    "\n",
    "\n",
    "* Optional: give the displayed data cleaner formatting\n",
    "\n",
    "\n",
    "* Display the summary data frame"
   ]
  },
  {
   "cell_type": "code",
   "execution_count": 121,
   "metadata": {},
   "outputs": [],
   "source": [
    "age_bins = [0, 9.90, 14.90, 19.90, 24.90, 29.90, 34.90, 39.90, 99999]\n",
    "group_names = [\"<10\", \"10-14\", \"15-19\", \"20-24\", \"25-29\", \"30-34\", \"35-39\", \"40+\"]"
   ]
  },
  {
   "cell_type": "code",
   "execution_count": 122,
   "metadata": {},
   "outputs": [
    {
     "data": {
      "text/html": [
       "<div>\n",
       "<style scoped>\n",
       "    .dataframe tbody tr th:only-of-type {\n",
       "        vertical-align: middle;\n",
       "    }\n",
       "\n",
       "    .dataframe tbody tr th {\n",
       "        vertical-align: top;\n",
       "    }\n",
       "\n",
       "    .dataframe thead th {\n",
       "        text-align: right;\n",
       "    }\n",
       "</style>\n",
       "<table border=\"1\" class=\"dataframe\">\n",
       "  <thead>\n",
       "    <tr style=\"text-align: right;\">\n",
       "      <th></th>\n",
       "      <th>Purchase ID</th>\n",
       "      <th>SN</th>\n",
       "      <th>Age</th>\n",
       "      <th>Gender</th>\n",
       "      <th>Item ID</th>\n",
       "      <th>Item Name</th>\n",
       "      <th>Price</th>\n",
       "      <th>Age Groups</th>\n",
       "    </tr>\n",
       "  </thead>\n",
       "  <tbody>\n",
       "    <tr>\n",
       "      <th>0</th>\n",
       "      <td>0</td>\n",
       "      <td>Lisim78</td>\n",
       "      <td>20</td>\n",
       "      <td>Male</td>\n",
       "      <td>108</td>\n",
       "      <td>Extraction, Quickblade Of Trembling Hands</td>\n",
       "      <td>3.53</td>\n",
       "      <td>20-24</td>\n",
       "    </tr>\n",
       "    <tr>\n",
       "      <th>1</th>\n",
       "      <td>1</td>\n",
       "      <td>Lisovynya38</td>\n",
       "      <td>40</td>\n",
       "      <td>Male</td>\n",
       "      <td>143</td>\n",
       "      <td>Frenzied Scimitar</td>\n",
       "      <td>1.56</td>\n",
       "      <td>40+</td>\n",
       "    </tr>\n",
       "    <tr>\n",
       "      <th>2</th>\n",
       "      <td>2</td>\n",
       "      <td>Ithergue48</td>\n",
       "      <td>24</td>\n",
       "      <td>Male</td>\n",
       "      <td>92</td>\n",
       "      <td>Final Critic</td>\n",
       "      <td>4.88</td>\n",
       "      <td>20-24</td>\n",
       "    </tr>\n",
       "    <tr>\n",
       "      <th>3</th>\n",
       "      <td>3</td>\n",
       "      <td>Chamassasya86</td>\n",
       "      <td>24</td>\n",
       "      <td>Male</td>\n",
       "      <td>100</td>\n",
       "      <td>Blindscythe</td>\n",
       "      <td>3.27</td>\n",
       "      <td>20-24</td>\n",
       "    </tr>\n",
       "    <tr>\n",
       "      <th>4</th>\n",
       "      <td>4</td>\n",
       "      <td>Iskosia90</td>\n",
       "      <td>23</td>\n",
       "      <td>Male</td>\n",
       "      <td>131</td>\n",
       "      <td>Fury</td>\n",
       "      <td>1.44</td>\n",
       "      <td>20-24</td>\n",
       "    </tr>\n",
       "  </tbody>\n",
       "</table>\n",
       "</div>"
      ],
      "text/plain": [
       "   Purchase ID             SN  Age Gender  Item ID  \\\n",
       "0            0        Lisim78   20   Male      108   \n",
       "1            1    Lisovynya38   40   Male      143   \n",
       "2            2     Ithergue48   24   Male       92   \n",
       "3            3  Chamassasya86   24   Male      100   \n",
       "4            4      Iskosia90   23   Male      131   \n",
       "\n",
       "                                   Item Name  Price Age Groups  \n",
       "0  Extraction, Quickblade Of Trembling Hands   3.53      20-24  \n",
       "1                          Frenzied Scimitar   1.56        40+  \n",
       "2                               Final Critic   4.88      20-24  \n",
       "3                                Blindscythe   3.27      20-24  \n",
       "4                                       Fury   1.44      20-24  "
      ]
     },
     "execution_count": 122,
     "metadata": {},
     "output_type": "execute_result"
    }
   ],
   "source": [
    "purchase_data[\"Age Groups\"] = pd.cut(purchase_data[\"Age\"], age_bins, labels=group_names)\n",
    "purchase_data.head()"
   ]
  },
  {
   "cell_type": "code",
   "execution_count": 123,
   "metadata": {},
   "outputs": [
    {
     "data": {
      "text/html": [
       "<div>\n",
       "<style scoped>\n",
       "    .dataframe tbody tr th:only-of-type {\n",
       "        vertical-align: middle;\n",
       "    }\n",
       "\n",
       "    .dataframe tbody tr th {\n",
       "        vertical-align: top;\n",
       "    }\n",
       "\n",
       "    .dataframe thead th {\n",
       "        text-align: right;\n",
       "    }\n",
       "</style>\n",
       "<table border=\"1\" class=\"dataframe\">\n",
       "  <thead>\n",
       "    <tr style=\"text-align: right;\">\n",
       "      <th></th>\n",
       "      <th>Age Groups</th>\n",
       "      <th>Total Count</th>\n",
       "    </tr>\n",
       "  </thead>\n",
       "  <tbody>\n",
       "    <tr>\n",
       "      <th>0</th>\n",
       "      <td>&lt;10</td>\n",
       "      <td>23</td>\n",
       "    </tr>\n",
       "    <tr>\n",
       "      <th>1</th>\n",
       "      <td>10-14</td>\n",
       "      <td>28</td>\n",
       "    </tr>\n",
       "    <tr>\n",
       "      <th>2</th>\n",
       "      <td>15-19</td>\n",
       "      <td>136</td>\n",
       "    </tr>\n",
       "    <tr>\n",
       "      <th>3</th>\n",
       "      <td>20-24</td>\n",
       "      <td>365</td>\n",
       "    </tr>\n",
       "    <tr>\n",
       "      <th>4</th>\n",
       "      <td>25-29</td>\n",
       "      <td>101</td>\n",
       "    </tr>\n",
       "    <tr>\n",
       "      <th>5</th>\n",
       "      <td>30-34</td>\n",
       "      <td>73</td>\n",
       "    </tr>\n",
       "    <tr>\n",
       "      <th>6</th>\n",
       "      <td>35-39</td>\n",
       "      <td>41</td>\n",
       "    </tr>\n",
       "    <tr>\n",
       "      <th>7</th>\n",
       "      <td>40+</td>\n",
       "      <td>13</td>\n",
       "    </tr>\n",
       "  </tbody>\n",
       "</table>\n",
       "</div>"
      ],
      "text/plain": [
       "  Age Groups  Total Count\n",
       "0        <10           23\n",
       "1      10-14           28\n",
       "2      15-19          136\n",
       "3      20-24          365\n",
       "4      25-29          101\n",
       "5      30-34           73\n",
       "6      35-39           41\n",
       "7        40+           13"
      ]
     },
     "execution_count": 123,
     "metadata": {},
     "output_type": "execute_result"
    }
   ],
   "source": [
    "grouped_age= pd.DataFrame({'Total Count' : purchase_data.groupby(\"Age Groups\").size()}).reset_index()\n",
    "grouped_age"
   ]
  },
  {
   "cell_type": "code",
   "execution_count": 132,
   "metadata": {},
   "outputs": [
    {
     "name": "stderr",
     "output_type": "stream",
     "text": [
      "/anaconda3/lib/python3.6/site-packages/ipykernel_launcher.py:3: SettingWithCopyWarning: \n",
      "A value is trying to be set on a copy of a slice from a DataFrame\n",
      "\n",
      "See the caveats in the documentation: http://pandas.pydata.org/pandas-docs/stable/indexing.html#indexing-view-versus-copy\n",
      "  This is separate from the ipykernel package so we can avoid doing imports until\n"
     ]
    },
    {
     "data": {
      "text/html": [
       "<div>\n",
       "<style scoped>\n",
       "    .dataframe tbody tr th:only-of-type {\n",
       "        vertical-align: middle;\n",
       "    }\n",
       "\n",
       "    .dataframe tbody tr th {\n",
       "        vertical-align: top;\n",
       "    }\n",
       "\n",
       "    .dataframe thead th {\n",
       "        text-align: right;\n",
       "    }\n",
       "</style>\n",
       "<table border=\"1\" class=\"dataframe\">\n",
       "  <thead>\n",
       "    <tr style=\"text-align: right;\">\n",
       "      <th></th>\n",
       "      <th>Age Groups</th>\n",
       "      <th>Total Count</th>\n",
       "      <th>Percentage</th>\n",
       "    </tr>\n",
       "  </thead>\n",
       "  <tbody>\n",
       "    <tr>\n",
       "      <th>0</th>\n",
       "      <td>&lt;10</td>\n",
       "      <td>23</td>\n",
       "      <td>2.95</td>\n",
       "    </tr>\n",
       "    <tr>\n",
       "      <th>1</th>\n",
       "      <td>10-14</td>\n",
       "      <td>28</td>\n",
       "      <td>3.59</td>\n",
       "    </tr>\n",
       "    <tr>\n",
       "      <th>2</th>\n",
       "      <td>15-19</td>\n",
       "      <td>136</td>\n",
       "      <td>17.44</td>\n",
       "    </tr>\n",
       "    <tr>\n",
       "      <th>3</th>\n",
       "      <td>20-24</td>\n",
       "      <td>365</td>\n",
       "      <td>46.79</td>\n",
       "    </tr>\n",
       "    <tr>\n",
       "      <th>4</th>\n",
       "      <td>25-29</td>\n",
       "      <td>101</td>\n",
       "      <td>12.95</td>\n",
       "    </tr>\n",
       "    <tr>\n",
       "      <th>5</th>\n",
       "      <td>30-34</td>\n",
       "      <td>73</td>\n",
       "      <td>9.36</td>\n",
       "    </tr>\n",
       "    <tr>\n",
       "      <th>6</th>\n",
       "      <td>35-39</td>\n",
       "      <td>41</td>\n",
       "      <td>5.26</td>\n",
       "    </tr>\n",
       "    <tr>\n",
       "      <th>7</th>\n",
       "      <td>40+</td>\n",
       "      <td>13</td>\n",
       "      <td>1.67</td>\n",
       "    </tr>\n",
       "  </tbody>\n",
       "</table>\n",
       "</div>"
      ],
      "text/plain": [
       "  Age Groups  Total Count  Percentage\n",
       "0        <10           23        2.95\n",
       "1      10-14           28        3.59\n",
       "2      15-19          136       17.44\n",
       "3      20-24          365       46.79\n",
       "4      25-29          101       12.95\n",
       "5      30-34           73        9.36\n",
       "6      35-39           41        5.26\n",
       "7        40+           13        1.67"
      ]
     },
     "execution_count": 132,
     "metadata": {},
     "output_type": "execute_result"
    }
   ],
   "source": [
    "grouped_age[\"Percentage\"] = (grouped_age[\"Total Count\"]/grouped_age[\"Total Count\"].sum())*100\n",
    "for i in range(0,len(grouped_age[\"Percentage\"])):\n",
    "    grouped_age[\"Percentage\"][i]=\"{:.2f}\".format(grouped_age[\"Percentage\"][i])\n",
    "grouped_age"
   ]
  },
  {
   "cell_type": "code",
   "execution_count": null,
   "metadata": {},
   "outputs": [],
   "source": [
    "total_by_group = grouped_age[\"Age Groups\"].count()\n",
    "total_by_group"
   ]
  },
  {
   "cell_type": "markdown",
   "metadata": {},
   "source": [
    "## Age Demographics"
   ]
  },
  {
   "cell_type": "markdown",
   "metadata": {},
   "source": [
    "* Establish bins for ages\n",
    "\n",
    "\n",
    "* Categorize the existing players using the age bins. Hint: use pd.cut()\n",
    "\n",
    "\n",
    "* Calculate the numbers and percentages by age group\n",
    "\n",
    "\n",
    "* Create a summary data frame to hold the results\n",
    "\n",
    "\n",
    "* Optional: round the percentage column to two decimal points\n",
    "\n",
    "\n",
    "* Display Age Demographics Table\n"
   ]
  },
  {
   "cell_type": "code",
   "execution_count": null,
   "metadata": {},
   "outputs": [],
   "source": [
    "purchase_data.head()\n"
   ]
  },
  {
   "cell_type": "code",
   "execution_count": null,
   "metadata": {},
   "outputs": [],
   "source": [
    "purchase_data"
   ]
  },
  {
   "cell_type": "code",
   "execution_count": null,
   "metadata": {},
   "outputs": [],
   "source": []
  },
  {
   "cell_type": "markdown",
   "metadata": {},
   "source": [
    "## Purchasing Analysis (Age)"
   ]
  },
  {
   "cell_type": "markdown",
   "metadata": {},
   "source": [
    "* Bin the purchase_data data frame by age\n",
    "\n",
    "\n",
    "* Run basic calculations to obtain purchase count, avg. purchase price, etc. in the table below\n",
    "\n",
    "\n",
    "* Calculate Normalized Purchasing\n",
    "\n",
    "\n",
    "* Create a summary data frame to hold the results\n",
    "\n",
    "\n",
    "* Optional: give the displayed data cleaner formatting\n",
    "\n",
    "\n",
    "* Display the summary data frame"
   ]
  },
  {
   "cell_type": "code",
   "execution_count": 181,
   "metadata": {},
   "outputs": [],
   "source": [
    "age_analysis= pd.DataFrame({'Total Count' : purchase_data.groupby(\"Age Groups\").size()}).reset_index()\n"
   ]
  },
  {
   "cell_type": "code",
   "execution_count": 182,
   "metadata": {},
   "outputs": [
    {
     "data": {
      "text/html": [
       "<div>\n",
       "<style scoped>\n",
       "    .dataframe tbody tr th:only-of-type {\n",
       "        vertical-align: middle;\n",
       "    }\n",
       "\n",
       "    .dataframe tbody tr th {\n",
       "        vertical-align: top;\n",
       "    }\n",
       "\n",
       "    .dataframe thead th {\n",
       "        text-align: right;\n",
       "    }\n",
       "</style>\n",
       "<table border=\"1\" class=\"dataframe\">\n",
       "  <thead>\n",
       "    <tr style=\"text-align: right;\">\n",
       "      <th></th>\n",
       "      <th>Purchase ID</th>\n",
       "      <th>Age</th>\n",
       "      <th>Item ID</th>\n",
       "      <th>Price</th>\n",
       "    </tr>\n",
       "    <tr>\n",
       "      <th>Age Groups</th>\n",
       "      <th></th>\n",
       "      <th></th>\n",
       "      <th></th>\n",
       "      <th></th>\n",
       "    </tr>\n",
       "  </thead>\n",
       "  <tbody>\n",
       "    <tr>\n",
       "      <th>&lt;10</th>\n",
       "      <td>10009</td>\n",
       "      <td>181</td>\n",
       "      <td>2437</td>\n",
       "      <td>77.13</td>\n",
       "    </tr>\n",
       "    <tr>\n",
       "      <th>10-14</th>\n",
       "      <td>10114</td>\n",
       "      <td>319</td>\n",
       "      <td>2887</td>\n",
       "      <td>82.78</td>\n",
       "    </tr>\n",
       "    <tr>\n",
       "      <th>15-19</th>\n",
       "      <td>54859</td>\n",
       "      <td>2284</td>\n",
       "      <td>12798</td>\n",
       "      <td>412.89</td>\n",
       "    </tr>\n",
       "    <tr>\n",
       "      <th>20-24</th>\n",
       "      <td>139573</td>\n",
       "      <td>7971</td>\n",
       "      <td>32411</td>\n",
       "      <td>1114.06</td>\n",
       "    </tr>\n",
       "    <tr>\n",
       "      <th>25-29</th>\n",
       "      <td>41072</td>\n",
       "      <td>2626</td>\n",
       "      <td>9146</td>\n",
       "      <td>293.00</td>\n",
       "    </tr>\n",
       "    <tr>\n",
       "      <th>30-34</th>\n",
       "      <td>26254</td>\n",
       "      <td>2291</td>\n",
       "      <td>6875</td>\n",
       "      <td>214.00</td>\n",
       "    </tr>\n",
       "    <tr>\n",
       "      <th>35-39</th>\n",
       "      <td>16596</td>\n",
       "      <td>1505</td>\n",
       "      <td>4137</td>\n",
       "      <td>147.67</td>\n",
       "    </tr>\n",
       "    <tr>\n",
       "      <th>40+</th>\n",
       "      <td>5333</td>\n",
       "      <td>540</td>\n",
       "      <td>1158</td>\n",
       "      <td>38.24</td>\n",
       "    </tr>\n",
       "  </tbody>\n",
       "</table>\n",
       "</div>"
      ],
      "text/plain": [
       "            Purchase ID   Age  Item ID    Price\n",
       "Age Groups                                     \n",
       "<10               10009   181     2437    77.13\n",
       "10-14             10114   319     2887    82.78\n",
       "15-19             54859  2284    12798   412.89\n",
       "20-24            139573  7971    32411  1114.06\n",
       "25-29             41072  2626     9146   293.00\n",
       "30-34             26254  2291     6875   214.00\n",
       "35-39             16596  1505     4137   147.67\n",
       "40+                5333   540     1158    38.24"
      ]
     },
     "execution_count": 182,
     "metadata": {},
     "output_type": "execute_result"
    }
   ],
   "source": [
    "gender_grouped = purchase_data.groupby(\"Age Groups\")\n",
    "total_spent = gender_grouped.sum()\n",
    "total_spent"
   ]
  },
  {
   "cell_type": "code",
   "execution_count": 183,
   "metadata": {},
   "outputs": [
    {
     "data": {
      "text/plain": [
       "Age Groups\n",
       "<10        77.13\n",
       "10-14      82.78\n",
       "15-19     412.89\n",
       "20-24    1114.06\n",
       "25-29     293.00\n",
       "30-34     214.00\n",
       "35-39     147.67\n",
       "40+        38.24\n",
       "Name: Price, dtype: float64"
      ]
     },
     "execution_count": 183,
     "metadata": {},
     "output_type": "execute_result"
    }
   ],
   "source": [
    "total_spent.Price"
   ]
  },
  {
   "cell_type": "code",
   "execution_count": 187,
   "metadata": {},
   "outputs": [],
   "source": [
    "age_analysis[\"Total Purchase\"]=\"\""
   ]
  },
  {
   "cell_type": "code",
   "execution_count": 188,
   "metadata": {},
   "outputs": [
    {
     "name": "stderr",
     "output_type": "stream",
     "text": [
      "/anaconda3/lib/python3.6/site-packages/ipykernel_launcher.py:2: SettingWithCopyWarning: \n",
      "A value is trying to be set on a copy of a slice from a DataFrame\n",
      "\n",
      "See the caveats in the documentation: http://pandas.pydata.org/pandas-docs/stable/indexing.html#indexing-view-versus-copy\n",
      "  \n"
     ]
    }
   ],
   "source": [
    "for i in range(0,len(total_spent.Price)):\n",
    "    age_analysis[\"Total Purchase\"][i]=total_spent.Price[i]"
   ]
  },
  {
   "cell_type": "code",
   "execution_count": 189,
   "metadata": {},
   "outputs": [
    {
     "data": {
      "text/html": [
       "<div>\n",
       "<style scoped>\n",
       "    .dataframe tbody tr th:only-of-type {\n",
       "        vertical-align: middle;\n",
       "    }\n",
       "\n",
       "    .dataframe tbody tr th {\n",
       "        vertical-align: top;\n",
       "    }\n",
       "\n",
       "    .dataframe thead th {\n",
       "        text-align: right;\n",
       "    }\n",
       "</style>\n",
       "<table border=\"1\" class=\"dataframe\">\n",
       "  <thead>\n",
       "    <tr style=\"text-align: right;\">\n",
       "      <th></th>\n",
       "      <th>Age Groups</th>\n",
       "      <th>Total Count</th>\n",
       "      <th>Total Purchase</th>\n",
       "    </tr>\n",
       "  </thead>\n",
       "  <tbody>\n",
       "    <tr>\n",
       "      <th>0</th>\n",
       "      <td>&lt;10</td>\n",
       "      <td>23</td>\n",
       "      <td>77.13</td>\n",
       "    </tr>\n",
       "    <tr>\n",
       "      <th>1</th>\n",
       "      <td>10-14</td>\n",
       "      <td>28</td>\n",
       "      <td>82.78</td>\n",
       "    </tr>\n",
       "    <tr>\n",
       "      <th>2</th>\n",
       "      <td>15-19</td>\n",
       "      <td>136</td>\n",
       "      <td>412.89</td>\n",
       "    </tr>\n",
       "    <tr>\n",
       "      <th>3</th>\n",
       "      <td>20-24</td>\n",
       "      <td>365</td>\n",
       "      <td>1114.06</td>\n",
       "    </tr>\n",
       "    <tr>\n",
       "      <th>4</th>\n",
       "      <td>25-29</td>\n",
       "      <td>101</td>\n",
       "      <td>293</td>\n",
       "    </tr>\n",
       "    <tr>\n",
       "      <th>5</th>\n",
       "      <td>30-34</td>\n",
       "      <td>73</td>\n",
       "      <td>214</td>\n",
       "    </tr>\n",
       "    <tr>\n",
       "      <th>6</th>\n",
       "      <td>35-39</td>\n",
       "      <td>41</td>\n",
       "      <td>147.67</td>\n",
       "    </tr>\n",
       "    <tr>\n",
       "      <th>7</th>\n",
       "      <td>40+</td>\n",
       "      <td>13</td>\n",
       "      <td>38.24</td>\n",
       "    </tr>\n",
       "  </tbody>\n",
       "</table>\n",
       "</div>"
      ],
      "text/plain": [
       "  Age Groups  Total Count Total Purchase\n",
       "0        <10           23          77.13\n",
       "1      10-14           28          82.78\n",
       "2      15-19          136         412.89\n",
       "3      20-24          365        1114.06\n",
       "4      25-29          101            293\n",
       "5      30-34           73            214\n",
       "6      35-39           41         147.67\n",
       "7        40+           13          38.24"
      ]
     },
     "execution_count": 189,
     "metadata": {},
     "output_type": "execute_result"
    }
   ],
   "source": [
    "age_analysis"
   ]
  },
  {
   "cell_type": "code",
   "execution_count": 191,
   "metadata": {},
   "outputs": [
    {
     "data": {
      "text/html": [
       "<div>\n",
       "<style scoped>\n",
       "    .dataframe tbody tr th:only-of-type {\n",
       "        vertical-align: middle;\n",
       "    }\n",
       "\n",
       "    .dataframe tbody tr th {\n",
       "        vertical-align: top;\n",
       "    }\n",
       "\n",
       "    .dataframe thead th {\n",
       "        text-align: right;\n",
       "    }\n",
       "</style>\n",
       "<table border=\"1\" class=\"dataframe\">\n",
       "  <thead>\n",
       "    <tr style=\"text-align: right;\">\n",
       "      <th></th>\n",
       "      <th>Age Groups</th>\n",
       "      <th>Total Count</th>\n",
       "      <th>Total Purchase</th>\n",
       "      <th>Normalized Price</th>\n",
       "    </tr>\n",
       "  </thead>\n",
       "  <tbody>\n",
       "    <tr>\n",
       "      <th>0</th>\n",
       "      <td>&lt;10</td>\n",
       "      <td>23</td>\n",
       "      <td>77.13</td>\n",
       "      <td>3.35348</td>\n",
       "    </tr>\n",
       "    <tr>\n",
       "      <th>1</th>\n",
       "      <td>10-14</td>\n",
       "      <td>28</td>\n",
       "      <td>82.78</td>\n",
       "      <td>2.95643</td>\n",
       "    </tr>\n",
       "    <tr>\n",
       "      <th>2</th>\n",
       "      <td>15-19</td>\n",
       "      <td>136</td>\n",
       "      <td>412.89</td>\n",
       "      <td>3.03596</td>\n",
       "    </tr>\n",
       "    <tr>\n",
       "      <th>3</th>\n",
       "      <td>20-24</td>\n",
       "      <td>365</td>\n",
       "      <td>1114.06</td>\n",
       "      <td>3.05222</td>\n",
       "    </tr>\n",
       "    <tr>\n",
       "      <th>4</th>\n",
       "      <td>25-29</td>\n",
       "      <td>101</td>\n",
       "      <td>293</td>\n",
       "      <td>2.90099</td>\n",
       "    </tr>\n",
       "    <tr>\n",
       "      <th>5</th>\n",
       "      <td>30-34</td>\n",
       "      <td>73</td>\n",
       "      <td>214</td>\n",
       "      <td>2.93151</td>\n",
       "    </tr>\n",
       "    <tr>\n",
       "      <th>6</th>\n",
       "      <td>35-39</td>\n",
       "      <td>41</td>\n",
       "      <td>147.67</td>\n",
       "      <td>3.60171</td>\n",
       "    </tr>\n",
       "    <tr>\n",
       "      <th>7</th>\n",
       "      <td>40+</td>\n",
       "      <td>13</td>\n",
       "      <td>38.24</td>\n",
       "      <td>2.94154</td>\n",
       "    </tr>\n",
       "  </tbody>\n",
       "</table>\n",
       "</div>"
      ],
      "text/plain": [
       "  Age Groups  Total Count Total Purchase Normalized Price\n",
       "0        <10           23          77.13          3.35348\n",
       "1      10-14           28          82.78          2.95643\n",
       "2      15-19          136         412.89          3.03596\n",
       "3      20-24          365        1114.06          3.05222\n",
       "4      25-29          101            293          2.90099\n",
       "5      30-34           73            214          2.93151\n",
       "6      35-39           41         147.67          3.60171\n",
       "7        40+           13          38.24          2.94154"
      ]
     },
     "execution_count": 191,
     "metadata": {},
     "output_type": "execute_result"
    }
   ],
   "source": [
    "age_analysis[\"Normalized Price\"] = age_analysis[\"Total Purchase\"]/age_analysis[\"Total Count\"]\n",
    "age_analysis\n"
   ]
  },
  {
   "cell_type": "code",
   "execution_count": 192,
   "metadata": {},
   "outputs": [
    {
     "data": {
      "text/html": [
       "<div>\n",
       "<style scoped>\n",
       "    .dataframe tbody tr th:only-of-type {\n",
       "        vertical-align: middle;\n",
       "    }\n",
       "\n",
       "    .dataframe tbody tr th {\n",
       "        vertical-align: top;\n",
       "    }\n",
       "\n",
       "    .dataframe thead th {\n",
       "        text-align: right;\n",
       "    }\n",
       "</style>\n",
       "<table border=\"1\" class=\"dataframe\">\n",
       "  <thead>\n",
       "    <tr style=\"text-align: right;\">\n",
       "      <th></th>\n",
       "      <th>Purchase ID</th>\n",
       "      <th>Age</th>\n",
       "      <th>Item ID</th>\n",
       "      <th>Price</th>\n",
       "    </tr>\n",
       "    <tr>\n",
       "      <th>Age Groups</th>\n",
       "      <th></th>\n",
       "      <th></th>\n",
       "      <th></th>\n",
       "      <th></th>\n",
       "    </tr>\n",
       "  </thead>\n",
       "  <tbody>\n",
       "    <tr>\n",
       "      <th>&lt;10</th>\n",
       "      <td>435.173913</td>\n",
       "      <td>7.869565</td>\n",
       "      <td>105.956522</td>\n",
       "      <td>3.353478</td>\n",
       "    </tr>\n",
       "    <tr>\n",
       "      <th>10-14</th>\n",
       "      <td>361.214286</td>\n",
       "      <td>11.392857</td>\n",
       "      <td>103.107143</td>\n",
       "      <td>2.956429</td>\n",
       "    </tr>\n",
       "    <tr>\n",
       "      <th>15-19</th>\n",
       "      <td>403.375000</td>\n",
       "      <td>16.794118</td>\n",
       "      <td>94.102941</td>\n",
       "      <td>3.035956</td>\n",
       "    </tr>\n",
       "    <tr>\n",
       "      <th>20-24</th>\n",
       "      <td>382.391781</td>\n",
       "      <td>21.838356</td>\n",
       "      <td>88.797260</td>\n",
       "      <td>3.052219</td>\n",
       "    </tr>\n",
       "    <tr>\n",
       "      <th>25-29</th>\n",
       "      <td>406.653465</td>\n",
       "      <td>26.000000</td>\n",
       "      <td>90.554455</td>\n",
       "      <td>2.900990</td>\n",
       "    </tr>\n",
       "    <tr>\n",
       "      <th>30-34</th>\n",
       "      <td>359.643836</td>\n",
       "      <td>31.383562</td>\n",
       "      <td>94.178082</td>\n",
       "      <td>2.931507</td>\n",
       "    </tr>\n",
       "    <tr>\n",
       "      <th>35-39</th>\n",
       "      <td>404.780488</td>\n",
       "      <td>36.707317</td>\n",
       "      <td>100.902439</td>\n",
       "      <td>3.601707</td>\n",
       "    </tr>\n",
       "    <tr>\n",
       "      <th>40+</th>\n",
       "      <td>410.230769</td>\n",
       "      <td>41.538462</td>\n",
       "      <td>89.076923</td>\n",
       "      <td>2.941538</td>\n",
       "    </tr>\n",
       "  </tbody>\n",
       "</table>\n",
       "</div>"
      ],
      "text/plain": [
       "            Purchase ID        Age     Item ID     Price\n",
       "Age Groups                                              \n",
       "<10          435.173913   7.869565  105.956522  3.353478\n",
       "10-14        361.214286  11.392857  103.107143  2.956429\n",
       "15-19        403.375000  16.794118   94.102941  3.035956\n",
       "20-24        382.391781  21.838356   88.797260  3.052219\n",
       "25-29        406.653465  26.000000   90.554455  2.900990\n",
       "30-34        359.643836  31.383562   94.178082  2.931507\n",
       "35-39        404.780488  36.707317  100.902439  3.601707\n",
       "40+          410.230769  41.538462   89.076923  2.941538"
      ]
     },
     "execution_count": 192,
     "metadata": {},
     "output_type": "execute_result"
    }
   ],
   "source": [
    "purchase_data_copy_2 = purchase_data.copy()\n",
    "purchase_data_copy_2.groupby(\"Age Groups\").mean()"
   ]
  },
  {
   "cell_type": "code",
   "execution_count": null,
   "metadata": {},
   "outputs": [],
   "source": []
  },
  {
   "cell_type": "markdown",
   "metadata": {},
   "source": [
    "## Top Spenders"
   ]
  },
  {
   "cell_type": "markdown",
   "metadata": {},
   "source": [
    "* Run basic calculations to obtain the results in the table below\n",
    "\n",
    "\n",
    "* Create a summary data frame to hold the results\n",
    "\n",
    "\n",
    "* Sort the total purchase value column in descending order\n",
    "\n",
    "\n",
    "* Optional: give the displayed data cleaner formatting\n",
    "\n",
    "\n",
    "* Display a preview of the summary data frame\n",
    "\n"
   ]
  },
  {
   "cell_type": "code",
   "execution_count": 243,
   "metadata": {},
   "outputs": [],
   "source": [
    "top_spenders = purchase_data.groupby(\"SN\")\n",
    "top_spenders = top_spenders[\"Price\"].sum()\n",
    "top_spend_5 = top_spenders.sort_values(ascending=False).head(5)"
   ]
  },
  {
   "cell_type": "code",
   "execution_count": 245,
   "metadata": {},
   "outputs": [],
   "source": [
    "names = [top_spend_5.index.values[0],top_spend_5.index.values[1],\n",
    "         top_spend_5.index.values[2],top_spend_5.index.values[3],\n",
    "         top_spend_5.index.values[4]]\n",
    "spending = [top_spend_5[0],top_spend_5[1],top_spend_5[2],top_spend_5[3],\n",
    "            top_spend_5[4]]"
   ]
  },
  {
   "cell_type": "code",
   "execution_count": 246,
   "metadata": {},
   "outputs": [],
   "source": [
    "purchase_count = []\n",
    "for each in names:\n",
    "    purchase_count.append(purchase_data[purchase_data['SN']==each].shape[0])"
   ]
  },
  {
   "cell_type": "code",
   "execution_count": 248,
   "metadata": {},
   "outputs": [
    {
     "data": {
      "text/plain": [
       "[5, 4, 3, 4, 3]"
      ]
     },
     "execution_count": 248,
     "metadata": {},
     "output_type": "execute_result"
    }
   ],
   "source": [
    "purchase_count"
   ]
  },
  {
   "cell_type": "code",
   "execution_count": 255,
   "metadata": {},
   "outputs": [
    {
     "data": {
      "text/html": [
       "<style  type=\"text/css\" >\n",
       "</style>  \n",
       "<table id=\"T_03896a82_8341_11e8_9070_14109fe90022\" > \n",
       "<thead>    <tr> \n",
       "        <th class=\"blank level0\" ></th> \n",
       "        <th class=\"col_heading level0 col0\" >SN</th> \n",
       "        <th class=\"col_heading level0 col1\" >Purchase Count</th> \n",
       "        <th class=\"col_heading level0 col2\" >Total Purchase Value</th> \n",
       "        <th class=\"col_heading level0 col3\" >Average Purchase Price</th> \n",
       "    </tr></thead> \n",
       "<tbody>    <tr> \n",
       "        <th id=\"T_03896a82_8341_11e8_9070_14109fe90022level0_row0\" class=\"row_heading level0 row0\" >0</th> \n",
       "        <td id=\"T_03896a82_8341_11e8_9070_14109fe90022row0_col0\" class=\"data row0 col0\" >Lisosia93</td> \n",
       "        <td id=\"T_03896a82_8341_11e8_9070_14109fe90022row0_col1\" class=\"data row0 col1\" >5</td> \n",
       "        <td id=\"T_03896a82_8341_11e8_9070_14109fe90022row0_col2\" class=\"data row0 col2\" >$18.96</td> \n",
       "        <td id=\"T_03896a82_8341_11e8_9070_14109fe90022row0_col3\" class=\"data row0 col3\" >$3.79</td> \n",
       "    </tr>    <tr> \n",
       "        <th id=\"T_03896a82_8341_11e8_9070_14109fe90022level0_row1\" class=\"row_heading level0 row1\" >1</th> \n",
       "        <td id=\"T_03896a82_8341_11e8_9070_14109fe90022row1_col0\" class=\"data row1 col0\" >Idastidru52</td> \n",
       "        <td id=\"T_03896a82_8341_11e8_9070_14109fe90022row1_col1\" class=\"data row1 col1\" >4</td> \n",
       "        <td id=\"T_03896a82_8341_11e8_9070_14109fe90022row1_col2\" class=\"data row1 col2\" >$15.45</td> \n",
       "        <td id=\"T_03896a82_8341_11e8_9070_14109fe90022row1_col3\" class=\"data row1 col3\" >$3.86</td> \n",
       "    </tr>    <tr> \n",
       "        <th id=\"T_03896a82_8341_11e8_9070_14109fe90022level0_row2\" class=\"row_heading level0 row2\" >2</th> \n",
       "        <td id=\"T_03896a82_8341_11e8_9070_14109fe90022row2_col0\" class=\"data row2 col0\" >Chamjask73</td> \n",
       "        <td id=\"T_03896a82_8341_11e8_9070_14109fe90022row2_col1\" class=\"data row2 col1\" >3</td> \n",
       "        <td id=\"T_03896a82_8341_11e8_9070_14109fe90022row2_col2\" class=\"data row2 col2\" >$13.83</td> \n",
       "        <td id=\"T_03896a82_8341_11e8_9070_14109fe90022row2_col3\" class=\"data row2 col3\" >$4.61</td> \n",
       "    </tr>    <tr> \n",
       "        <th id=\"T_03896a82_8341_11e8_9070_14109fe90022level0_row3\" class=\"row_heading level0 row3\" >3</th> \n",
       "        <td id=\"T_03896a82_8341_11e8_9070_14109fe90022row3_col0\" class=\"data row3 col0\" >Iral74</td> \n",
       "        <td id=\"T_03896a82_8341_11e8_9070_14109fe90022row3_col1\" class=\"data row3 col1\" >4</td> \n",
       "        <td id=\"T_03896a82_8341_11e8_9070_14109fe90022row3_col2\" class=\"data row3 col2\" >$13.62</td> \n",
       "        <td id=\"T_03896a82_8341_11e8_9070_14109fe90022row3_col3\" class=\"data row3 col3\" >$3.40</td> \n",
       "    </tr>    <tr> \n",
       "        <th id=\"T_03896a82_8341_11e8_9070_14109fe90022level0_row4\" class=\"row_heading level0 row4\" >4</th> \n",
       "        <td id=\"T_03896a82_8341_11e8_9070_14109fe90022row4_col0\" class=\"data row4 col0\" >Iskadarya95</td> \n",
       "        <td id=\"T_03896a82_8341_11e8_9070_14109fe90022row4_col1\" class=\"data row4 col1\" >3</td> \n",
       "        <td id=\"T_03896a82_8341_11e8_9070_14109fe90022row4_col2\" class=\"data row4 col2\" >$13.10</td> \n",
       "        <td id=\"T_03896a82_8341_11e8_9070_14109fe90022row4_col3\" class=\"data row4 col3\" >$4.37</td> \n",
       "    </tr></tbody> \n",
       "</table> "
      ],
      "text/plain": [
       "<pandas.io.formats.style.Styler at 0x114ef9320>"
      ]
     },
     "execution_count": 255,
     "metadata": {},
     "output_type": "execute_result"
    }
   ],
   "source": [
    "spendings = pd.DataFrame({\"SN\":names,\"Purchase Count\":purchase_count,\"Total Purchase Value\":spending})\n",
    "spendings = spendings[[\"SN\",\"Purchase Count\",\"Total Purchase Value\"]]\n",
    "spendings[\"Average Purchase Price\"] = spendings[\"Total Purchase Value\"]/spendings[\"Purchase Count\"]\n",
    "spendings = spendings.style.format({\"Average Purchase Price\": \"${:.2f}\", \"Total Purchase Value\": \"${:.2f}\"})\n",
    "spendings"
   ]
  },
  {
   "cell_type": "markdown",
   "metadata": {},
   "source": [
    "## Most Popular Items"
   ]
  },
  {
   "cell_type": "markdown",
   "metadata": {},
   "source": [
    "* Retrieve the Item ID, Item Name, and Item Price columns\n",
    "\n",
    "\n",
    "* Group by Item ID and Item Name. Perform calculations to obtain purchase count, item price, and total purchase value\n",
    "\n",
    "\n",
    "* Create a summary data frame to hold the results\n",
    "\n",
    "\n",
    "* Sort the purchase count column in descending order\n",
    "\n",
    "\n",
    "* Optional: give the displayed data cleaner formatting\n",
    "\n",
    "\n",
    "* Display a preview of the summary data frame\n",
    "\n"
   ]
  },
  {
   "cell_type": "code",
   "execution_count": 309,
   "metadata": {},
   "outputs": [
    {
     "data": {
      "text/plain": [
       "Item Name\n",
       "Final Critic                                    13\n",
       "Oathbreaker, Last Hope of the Breaking Storm    12\n",
       "Fiery Glass Crusader                             9\n",
       "Persuasion                                       9\n",
       "Nirvana                                          9\n",
       "Name: Item Name, dtype: int64"
      ]
     },
     "execution_count": 309,
     "metadata": {},
     "output_type": "execute_result"
    }
   ],
   "source": [
    "popular_items = purchase_data[[\"Item ID\",\"Item Name\",\"Price\"]]\n",
    "popular_items = popular_items.groupby(\"Item Name\")\n",
    "popular_items = popular_items[\"Item Name\"].count()\n",
    "popular_items = popular_items_count.sort_values(ascending=False).head(5)\n",
    "popular_items"
   ]
  },
  {
   "cell_type": "code",
   "execution_count": 310,
   "metadata": {},
   "outputs": [
    {
     "data": {
      "text/plain": [
       "'Final Critic'"
      ]
     },
     "execution_count": 310,
     "metadata": {},
     "output_type": "execute_result"
    }
   ],
   "source": [
    "popular_items.index.values[0]"
   ]
  },
  {
   "cell_type": "code",
   "execution_count": 373,
   "metadata": {},
   "outputs": [],
   "source": [
    "popular_list = [popular_items.index.values[0],popular_items.index.values[1],\n",
    "                popular_items.index.values[2],popular_items.index.values[3],\n",
    "                popular_items.index.values[4]]\n",
    "popular_count = [popular_items[0],popular_items[1],popular_items[2],\n",
    "                 popular_items[3],popular_items[4]]\n"
   ]
  },
  {
   "cell_type": "code",
   "execution_count": 376,
   "metadata": {},
   "outputs": [
    {
     "data": {
      "text/plain": [
       "[2, 25, 132, 24, 18]"
      ]
     },
     "execution_count": 376,
     "metadata": {},
     "output_type": "execute_result"
    }
   ],
   "source": [
    "row_id = []\n",
    "item_id = []\n",
    "for each in popular_list:\n",
    "    row_id.append(purchase_data[purchase_data['Item Name']==each]['Item ID'].index[0])\n",
    "row_id\n",
    "\n",
    "    \n",
    "    "
   ]
  },
  {
   "cell_type": "code",
   "execution_count": 377,
   "metadata": {},
   "outputs": [
    {
     "data": {
      "text/plain": [
       "[92, 178, 145, 141, 82]"
      ]
     },
     "execution_count": 377,
     "metadata": {},
     "output_type": "execute_result"
    }
   ],
   "source": [
    "for each in row_id:\n",
    "    item_id.append(purchase_data[\"Item ID\"][each])\n",
    "item_id"
   ]
  },
  {
   "cell_type": "code",
   "execution_count": 369,
   "metadata": {},
   "outputs": [
    {
     "data": {
      "text/plain": [
       "[4.88, 4.23, 4.58, 3.19, 4.9]"
      ]
     },
     "execution_count": 369,
     "metadata": {},
     "output_type": "execute_result"
    }
   ],
   "source": [
    "item_price = []\n",
    "for each in row_id:\n",
    "    item_price.append(purchase_data[\"Price\"][each])\n",
    "item_price"
   ]
  },
  {
   "cell_type": "code",
   "execution_count": 371,
   "metadata": {},
   "outputs": [
    {
     "data": {
      "text/plain": [
       "['Final Critic',\n",
       " 'Oathbreaker, Last Hope of the Breaking Storm',\n",
       " 'Fiery Glass Crusader',\n",
       " 'Persuasion',\n",
       " 'Nirvana']"
      ]
     },
     "execution_count": 371,
     "metadata": {},
     "output_type": "execute_result"
    }
   ],
   "source": [
    "item_name = []\n",
    "for each in row_id:\n",
    "    item_name.append(purchase_data[\"Item Name\"][each])\n",
    "item_name"
   ]
  },
  {
   "cell_type": "code",
   "execution_count": 381,
   "metadata": {},
   "outputs": [
    {
     "data": {
      "text/html": [
       "<style  type=\"text/css\" >\n",
       "</style>  \n",
       "<table id=\"T_db3f3750_834f_11e8_93af_14109fe90022\" > \n",
       "<thead>    <tr> \n",
       "        <th class=\"blank level0\" ></th> \n",
       "        <th class=\"col_heading level0 col0\" >Item ID</th> \n",
       "        <th class=\"col_heading level0 col1\" >Item Name</th> \n",
       "        <th class=\"col_heading level0 col2\" >Price</th> \n",
       "        <th class=\"col_heading level0 col3\" >Total Count</th> \n",
       "        <th class=\"col_heading level0 col4\" >Total Purchase Value</th> \n",
       "    </tr></thead> \n",
       "<tbody>    <tr> \n",
       "        <th id=\"T_db3f3750_834f_11e8_93af_14109fe90022level0_row0\" class=\"row_heading level0 row0\" >0</th> \n",
       "        <td id=\"T_db3f3750_834f_11e8_93af_14109fe90022row0_col0\" class=\"data row0 col0\" >92</td> \n",
       "        <td id=\"T_db3f3750_834f_11e8_93af_14109fe90022row0_col1\" class=\"data row0 col1\" >Final Critic</td> \n",
       "        <td id=\"T_db3f3750_834f_11e8_93af_14109fe90022row0_col2\" class=\"data row0 col2\" >$4.88</td> \n",
       "        <td id=\"T_db3f3750_834f_11e8_93af_14109fe90022row0_col3\" class=\"data row0 col3\" >13</td> \n",
       "        <td id=\"T_db3f3750_834f_11e8_93af_14109fe90022row0_col4\" class=\"data row0 col4\" >$63.44</td> \n",
       "    </tr>    <tr> \n",
       "        <th id=\"T_db3f3750_834f_11e8_93af_14109fe90022level0_row1\" class=\"row_heading level0 row1\" >1</th> \n",
       "        <td id=\"T_db3f3750_834f_11e8_93af_14109fe90022row1_col0\" class=\"data row1 col0\" >178</td> \n",
       "        <td id=\"T_db3f3750_834f_11e8_93af_14109fe90022row1_col1\" class=\"data row1 col1\" >Oathbreaker, Last Hope of the Breaking Storm</td> \n",
       "        <td id=\"T_db3f3750_834f_11e8_93af_14109fe90022row1_col2\" class=\"data row1 col2\" >$4.23</td> \n",
       "        <td id=\"T_db3f3750_834f_11e8_93af_14109fe90022row1_col3\" class=\"data row1 col3\" >12</td> \n",
       "        <td id=\"T_db3f3750_834f_11e8_93af_14109fe90022row1_col4\" class=\"data row1 col4\" >$50.76</td> \n",
       "    </tr>    <tr> \n",
       "        <th id=\"T_db3f3750_834f_11e8_93af_14109fe90022level0_row2\" class=\"row_heading level0 row2\" >2</th> \n",
       "        <td id=\"T_db3f3750_834f_11e8_93af_14109fe90022row2_col0\" class=\"data row2 col0\" >145</td> \n",
       "        <td id=\"T_db3f3750_834f_11e8_93af_14109fe90022row2_col1\" class=\"data row2 col1\" >Fiery Glass Crusader</td> \n",
       "        <td id=\"T_db3f3750_834f_11e8_93af_14109fe90022row2_col2\" class=\"data row2 col2\" >$4.58</td> \n",
       "        <td id=\"T_db3f3750_834f_11e8_93af_14109fe90022row2_col3\" class=\"data row2 col3\" >9</td> \n",
       "        <td id=\"T_db3f3750_834f_11e8_93af_14109fe90022row2_col4\" class=\"data row2 col4\" >$41.22</td> \n",
       "    </tr>    <tr> \n",
       "        <th id=\"T_db3f3750_834f_11e8_93af_14109fe90022level0_row3\" class=\"row_heading level0 row3\" >3</th> \n",
       "        <td id=\"T_db3f3750_834f_11e8_93af_14109fe90022row3_col0\" class=\"data row3 col0\" >141</td> \n",
       "        <td id=\"T_db3f3750_834f_11e8_93af_14109fe90022row3_col1\" class=\"data row3 col1\" >Persuasion</td> \n",
       "        <td id=\"T_db3f3750_834f_11e8_93af_14109fe90022row3_col2\" class=\"data row3 col2\" >$3.19</td> \n",
       "        <td id=\"T_db3f3750_834f_11e8_93af_14109fe90022row3_col3\" class=\"data row3 col3\" >9</td> \n",
       "        <td id=\"T_db3f3750_834f_11e8_93af_14109fe90022row3_col4\" class=\"data row3 col4\" >$28.71</td> \n",
       "    </tr>    <tr> \n",
       "        <th id=\"T_db3f3750_834f_11e8_93af_14109fe90022level0_row4\" class=\"row_heading level0 row4\" >4</th> \n",
       "        <td id=\"T_db3f3750_834f_11e8_93af_14109fe90022row4_col0\" class=\"data row4 col0\" >82</td> \n",
       "        <td id=\"T_db3f3750_834f_11e8_93af_14109fe90022row4_col1\" class=\"data row4 col1\" >Nirvana</td> \n",
       "        <td id=\"T_db3f3750_834f_11e8_93af_14109fe90022row4_col2\" class=\"data row4 col2\" >$4.90</td> \n",
       "        <td id=\"T_db3f3750_834f_11e8_93af_14109fe90022row4_col3\" class=\"data row4 col3\" >9</td> \n",
       "        <td id=\"T_db3f3750_834f_11e8_93af_14109fe90022row4_col4\" class=\"data row4 col4\" >$44.10</td> \n",
       "    </tr></tbody> \n",
       "</table> "
      ],
      "text/plain": [
       "<pandas.io.formats.style.Styler at 0x11b6124e0>"
      ]
     },
     "execution_count": 381,
     "metadata": {},
     "output_type": "execute_result"
    }
   ],
   "source": [
    "popular_df = pd.DataFrame({\"Item ID\":item_id,\"Item Name\":item_name,\"Total Count\":popular_count,\"Price\":item_price})\n",
    "popular_df[\"Total Purchase Value\"] = popular_df[\"Price\"] * popular_df[\"Total Count\"]\n",
    "pop_df_format = popular_df.style.format({\"Price\": \"${:.2f}\", \"Total Purchase Value\": \"${:.2f}\"})\n",
    "pop_df_format"
   ]
  },
  {
   "cell_type": "markdown",
   "metadata": {},
   "source": [
    "## Most Profitable Items"
   ]
  },
  {
   "cell_type": "markdown",
   "metadata": {},
   "source": [
    "* Sort the above table by total purchase value in descending order\n",
    "\n",
    "\n",
    "* Optional: give the displayed data cleaner formatting\n",
    "\n",
    "\n",
    "* Display a preview of the data frame\n",
    "\n"
   ]
  },
  {
   "cell_type": "code",
   "execution_count": 389,
   "metadata": {
    "scrolled": true
   },
   "outputs": [
    {
     "data": {
      "text/plain": [
       "Item ID                   int64\n",
       "Item Name                object\n",
       "Price                   float64\n",
       "Total Count               int64\n",
       "Total Purchase Value    float64\n",
       "dtype: object"
      ]
     },
     "execution_count": 389,
     "metadata": {},
     "output_type": "execute_result"
    }
   ],
   "source": [
    "#profitable = popular_df.groupby(\"Total Purchase Value\")\n",
    "popular_df.dtypes"
   ]
  },
  {
   "cell_type": "code",
   "execution_count": 391,
   "metadata": {},
   "outputs": [
    {
     "data": {
      "text/html": [
       "<style  type=\"text/css\" >\n",
       "</style>  \n",
       "<table id=\"T_ff379e58_8350_11e8_ad3b_14109fe90022\" > \n",
       "<thead>    <tr> \n",
       "        <th class=\"blank level0\" ></th> \n",
       "        <th class=\"col_heading level0 col0\" >Item ID</th> \n",
       "        <th class=\"col_heading level0 col1\" >Item Name</th> \n",
       "        <th class=\"col_heading level0 col2\" >Price</th> \n",
       "        <th class=\"col_heading level0 col3\" >Total Count</th> \n",
       "        <th class=\"col_heading level0 col4\" >Total Purchase Value</th> \n",
       "    </tr></thead> \n",
       "<tbody>    <tr> \n",
       "        <th id=\"T_ff379e58_8350_11e8_ad3b_14109fe90022level0_row0\" class=\"row_heading level0 row0\" >0</th> \n",
       "        <td id=\"T_ff379e58_8350_11e8_ad3b_14109fe90022row0_col0\" class=\"data row0 col0\" >92</td> \n",
       "        <td id=\"T_ff379e58_8350_11e8_ad3b_14109fe90022row0_col1\" class=\"data row0 col1\" >Final Critic</td> \n",
       "        <td id=\"T_ff379e58_8350_11e8_ad3b_14109fe90022row0_col2\" class=\"data row0 col2\" >$4.88</td> \n",
       "        <td id=\"T_ff379e58_8350_11e8_ad3b_14109fe90022row0_col3\" class=\"data row0 col3\" >13</td> \n",
       "        <td id=\"T_ff379e58_8350_11e8_ad3b_14109fe90022row0_col4\" class=\"data row0 col4\" >$63.44</td> \n",
       "    </tr>    <tr> \n",
       "        <th id=\"T_ff379e58_8350_11e8_ad3b_14109fe90022level0_row1\" class=\"row_heading level0 row1\" >1</th> \n",
       "        <td id=\"T_ff379e58_8350_11e8_ad3b_14109fe90022row1_col0\" class=\"data row1 col0\" >178</td> \n",
       "        <td id=\"T_ff379e58_8350_11e8_ad3b_14109fe90022row1_col1\" class=\"data row1 col1\" >Oathbreaker, Last Hope of the Breaking Storm</td> \n",
       "        <td id=\"T_ff379e58_8350_11e8_ad3b_14109fe90022row1_col2\" class=\"data row1 col2\" >$4.23</td> \n",
       "        <td id=\"T_ff379e58_8350_11e8_ad3b_14109fe90022row1_col3\" class=\"data row1 col3\" >12</td> \n",
       "        <td id=\"T_ff379e58_8350_11e8_ad3b_14109fe90022row1_col4\" class=\"data row1 col4\" >$50.76</td> \n",
       "    </tr>    <tr> \n",
       "        <th id=\"T_ff379e58_8350_11e8_ad3b_14109fe90022level0_row2\" class=\"row_heading level0 row2\" >4</th> \n",
       "        <td id=\"T_ff379e58_8350_11e8_ad3b_14109fe90022row2_col0\" class=\"data row2 col0\" >82</td> \n",
       "        <td id=\"T_ff379e58_8350_11e8_ad3b_14109fe90022row2_col1\" class=\"data row2 col1\" >Nirvana</td> \n",
       "        <td id=\"T_ff379e58_8350_11e8_ad3b_14109fe90022row2_col2\" class=\"data row2 col2\" >$4.90</td> \n",
       "        <td id=\"T_ff379e58_8350_11e8_ad3b_14109fe90022row2_col3\" class=\"data row2 col3\" >9</td> \n",
       "        <td id=\"T_ff379e58_8350_11e8_ad3b_14109fe90022row2_col4\" class=\"data row2 col4\" >$44.10</td> \n",
       "    </tr>    <tr> \n",
       "        <th id=\"T_ff379e58_8350_11e8_ad3b_14109fe90022level0_row3\" class=\"row_heading level0 row3\" >2</th> \n",
       "        <td id=\"T_ff379e58_8350_11e8_ad3b_14109fe90022row3_col0\" class=\"data row3 col0\" >145</td> \n",
       "        <td id=\"T_ff379e58_8350_11e8_ad3b_14109fe90022row3_col1\" class=\"data row3 col1\" >Fiery Glass Crusader</td> \n",
       "        <td id=\"T_ff379e58_8350_11e8_ad3b_14109fe90022row3_col2\" class=\"data row3 col2\" >$4.58</td> \n",
       "        <td id=\"T_ff379e58_8350_11e8_ad3b_14109fe90022row3_col3\" class=\"data row3 col3\" >9</td> \n",
       "        <td id=\"T_ff379e58_8350_11e8_ad3b_14109fe90022row3_col4\" class=\"data row3 col4\" >$41.22</td> \n",
       "    </tr>    <tr> \n",
       "        <th id=\"T_ff379e58_8350_11e8_ad3b_14109fe90022level0_row4\" class=\"row_heading level0 row4\" >3</th> \n",
       "        <td id=\"T_ff379e58_8350_11e8_ad3b_14109fe90022row4_col0\" class=\"data row4 col0\" >141</td> \n",
       "        <td id=\"T_ff379e58_8350_11e8_ad3b_14109fe90022row4_col1\" class=\"data row4 col1\" >Persuasion</td> \n",
       "        <td id=\"T_ff379e58_8350_11e8_ad3b_14109fe90022row4_col2\" class=\"data row4 col2\" >$3.19</td> \n",
       "        <td id=\"T_ff379e58_8350_11e8_ad3b_14109fe90022row4_col3\" class=\"data row4 col3\" >9</td> \n",
       "        <td id=\"T_ff379e58_8350_11e8_ad3b_14109fe90022row4_col4\" class=\"data row4 col4\" >$28.71</td> \n",
       "    </tr></tbody> \n",
       "</table> "
      ],
      "text/plain": [
       "<pandas.io.formats.style.Styler at 0x11b5fa710>"
      ]
     },
     "execution_count": 391,
     "metadata": {},
     "output_type": "execute_result"
    }
   ],
   "source": [
    "profitable = popular_df.sort_values(by=\"Total Purchase Value\", ascending=False)\n",
    "profitable_format = profitable.style.format({\"Price\": \"${:.2f}\", \"Total Purchase Value\": \"${:.2f}\"})\n",
    "profitable_format"
   ]
  },
  {
   "cell_type": "code",
   "execution_count": null,
   "metadata": {},
   "outputs": [],
   "source": []
  }
 ],
 "metadata": {
  "anaconda-cloud": {},
  "kernel_info": {
   "name": "python3"
  },
  "kernelspec": {
   "display_name": "Python 3",
   "language": "python",
   "name": "python3"
  },
  "language_info": {
   "codemirror_mode": {
    "name": "ipython",
    "version": 3
   },
   "file_extension": ".py",
   "mimetype": "text/x-python",
   "name": "python",
   "nbconvert_exporter": "python",
   "pygments_lexer": "ipython3",
   "version": "3.6.4"
  },
  "nteract": {
   "version": "0.8.4"
  }
 },
 "nbformat": 4,
 "nbformat_minor": 1
}
